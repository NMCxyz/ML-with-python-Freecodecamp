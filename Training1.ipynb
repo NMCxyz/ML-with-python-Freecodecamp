{
 "cells": [
  {
   "cell_type": "code",
   "execution_count": 20,
   "metadata": {},
   "outputs": [],
   "source": [
    "import tensorflow.compat.v2.feature_column as fc  \n",
    "\n",
    "import tensorflow as tf\n",
    "import pandas as pd\n",
    "\n",
    "import matplotlib.pyplot as plt \n",
    "from IPython.display import *\n",
    "from six.moves import urllib\n",
    "\n",
    "from tabulate import tabulate"
   ]
  },
  {
   "cell_type": "code",
   "execution_count": 21,
   "metadata": {},
   "outputs": [],
   "source": [
    "dftrain = pd.read_csv(\"https://storage.googleapis.com/tf-datasets/titanic/train.csv\")\n",
    "dfeval = pd.read_csv(\"https://storage.googleapis.com/tf-datasets/titanic/eval.csv\")\n",
    "y_train = dftrain.pop('survived')\n",
    "y_eval = dfeval.pop('survived')\n",
    "\n",
    "CATEGORICAL_COLUMN = ['sex','n_siblings_spouses', 'parch', 'class', 'deck', 'embark_town', 'alone']\n",
    "NUMERIC_COLUMN = ['age', 'fare']\n",
    "\n",
    "feature_column = []\n",
    "\n",
    "for feature_name in CATEGORICAL_COLUMN:\n",
    "    vocabulary = dftrain[feature_name].unique() # gets a list of all unique values in column \n",
    "    feature_column.append(tf.feature_column.categorical_column_with_vocabulary_list(feature_name, vocabulary))\n",
    "    # create a feature column which takes as input some string and outputs a one-hot vector\n",
    "\n",
    "for feature_name in NUMERIC_COLUMN:\n",
    "    feature_column.append(tf.feature_column.numeric_column(feature_name, dtype=tf.float32))\n",
    "\n",
    "print(feature_column)\n",
    "clear_output()"
   ]
  },
  {
   "cell_type": "code",
   "execution_count": 22,
   "metadata": {},
   "outputs": [
    {
     "data": {
      "text/plain": [
       "array(['Southampton', 'Cherbourg', 'Queenstown', 'unknown'], dtype=object)"
      ]
     },
     "execution_count": 22,
     "metadata": {},
     "output_type": "execute_result"
    }
   ],
   "source": [
    "dftrain[\"embark_town\"].unique()"
   ]
  },
  {
   "cell_type": "markdown",
   "metadata": {},
   "source": [
    "## Input function\n",
    "\n",
    "With linear regression"
   ]
  },
  {
   "cell_type": "code",
   "execution_count": 23,
   "metadata": {},
   "outputs": [],
   "source": [
    "def make_input_fn(data_df, label_df, num_epochs=10, shuffle=True, batch_size=32):\n",
    "    def input_function():\n",
    "        # create tf.data.dataset.from_tensor_slices object with data and its label\n",
    "        ds = tf.data.Dataset.from_tensor_slices((dict(data_df), label_df))\n",
    "        if shuffle:\n",
    "            ds = ds.shuffle(1000)\n",
    "        ds = ds.batch(batch_size).repeat(num_epochs)  \n",
    "        return ds\n",
    "    return input_function\n",
    "\n",
    "train_input_fn = make_input_fn(dftrain, y_train)\n",
    "eval_input_fn = make_input_fn(dfeval, y_eval, num_epochs=1, shuffle = False)\n",
    "\n",
    "linear_est = tf.estimator.LinearClassifier(feature_columns = feature_column)\n",
    "\n",
    "linear_est.train(train_input_fn)\n",
    "\n",
    "result = linear_est.evaluate(eval_input_fn)\n",
    "\n",
    "clear_output()"
   ]
  },
  {
   "cell_type": "code",
   "execution_count": 24,
   "metadata": {},
   "outputs": [
    {
     "name": "stdout",
     "output_type": "stream",
     "text": [
      "0.77272725\n"
     ]
    }
   ],
   "source": [
    "print(result['accuracy'])"
   ]
  },
  {
   "cell_type": "code",
   "execution_count": 25,
   "metadata": {},
   "outputs": [
    {
     "name": "stdout",
     "output_type": "stream",
     "text": [
      "INFO:tensorflow:Calling model_fn.\n",
      "INFO:tensorflow:Done calling model_fn.\n",
      "INFO:tensorflow:Graph was finalized.\n",
      "INFO:tensorflow:Restoring parameters from C:\\Users\\ADMIN\\AppData\\Local\\Temp\\tmpyx3sma6l\\model.ckpt-200\n",
      "INFO:tensorflow:Running local_init_op.\n",
      "INFO:tensorflow:Done running local_init_op.\n",
      "sex                        female\n",
      "age                          55.0\n",
      "n_siblings_spouses              0\n",
      "parch                           0\n",
      "fare                         16.0\n",
      "class                      Second\n",
      "deck                      unknown\n",
      "embark_town           Southampton\n",
      "alone                           y\n",
      "Name: 3, dtype: object\n",
      "0.6616521\n"
     ]
    }
   ],
   "source": [
    "result = list(linear_est.predict(eval_input_fn))\n",
    "print(dfeval.loc[3])\n",
    "print(result[3]['probabilities'][1])"
   ]
  },
  {
   "cell_type": "markdown",
   "metadata": {},
   "source": [
    "### Dataset\n",
    "\n",
    "This specific dataset separates data (here is flowers) into 3 different classes of species:\n",
    "- Setosa \n",
    "- Versicolor\n",
    "- Virginica <br>\n",
    "\n",
    "The information abour each flower is following:\n",
    "- sepal length\n",
    "- sepal width\n",
    "- petal length\n",
    "- petal width\n"
   ]
  },
  {
   "cell_type": "code",
   "execution_count": 26,
   "metadata": {},
   "outputs": [],
   "source": [
    "CSV_COLUMN_NAMES = ['SepalLength', 'SepalWidth', 'PetalLength', 'PetalWidth', 'Species']\n",
    "SPECIES = ['Setosa', 'Versicolor', 'Virginica']\n",
    "# Define some constants to help us later on"
   ]
  },
  {
   "cell_type": "code",
   "execution_count": 27,
   "metadata": {},
   "outputs": [],
   "source": [
    "train_path = tf.keras.utils.get_file(\n",
    "    \"iris_training.csv\", \"https://storage.googleapis.com/download.tensorflow.org/data/iris_training.csv\"\n",
    ")\n",
    "test_path = tf.keras.utils.get_file(\n",
    "    \"iris_test.csv\", \"https://storage.googleapis.com/download.tensorflow.org/data/iris_test.csv\"\n",
    ")\n",
    "\n",
    "train = pd.read_csv(train_path, names = CSV_COLUMN_NAMES, header = 0)\n",
    "test = pd.read_csv(test_path, names = CSV_COLUMN_NAMES, header = 0)"
   ]
  },
  {
   "cell_type": "code",
   "execution_count": 28,
   "metadata": {},
   "outputs": [
    {
     "data": {
      "text/html": [
       "<div>\n",
       "<style scoped>\n",
       "    .dataframe tbody tr th:only-of-type {\n",
       "        vertical-align: middle;\n",
       "    }\n",
       "\n",
       "    .dataframe tbody tr th {\n",
       "        vertical-align: top;\n",
       "    }\n",
       "\n",
       "    .dataframe thead th {\n",
       "        text-align: right;\n",
       "    }\n",
       "</style>\n",
       "<table border=\"1\" class=\"dataframe\">\n",
       "  <thead>\n",
       "    <tr style=\"text-align: right;\">\n",
       "      <th></th>\n",
       "      <th>SepalLength</th>\n",
       "      <th>SepalWidth</th>\n",
       "      <th>PetalLength</th>\n",
       "      <th>PetalWidth</th>\n",
       "      <th>Species</th>\n",
       "    </tr>\n",
       "  </thead>\n",
       "  <tbody>\n",
       "    <tr>\n",
       "      <th>0</th>\n",
       "      <td>6.4</td>\n",
       "      <td>2.8</td>\n",
       "      <td>5.6</td>\n",
       "      <td>2.2</td>\n",
       "      <td>2</td>\n",
       "    </tr>\n",
       "    <tr>\n",
       "      <th>1</th>\n",
       "      <td>5.0</td>\n",
       "      <td>2.3</td>\n",
       "      <td>3.3</td>\n",
       "      <td>1.0</td>\n",
       "      <td>1</td>\n",
       "    </tr>\n",
       "    <tr>\n",
       "      <th>2</th>\n",
       "      <td>4.9</td>\n",
       "      <td>2.5</td>\n",
       "      <td>4.5</td>\n",
       "      <td>1.7</td>\n",
       "      <td>2</td>\n",
       "    </tr>\n",
       "    <tr>\n",
       "      <th>3</th>\n",
       "      <td>4.9</td>\n",
       "      <td>3.1</td>\n",
       "      <td>1.5</td>\n",
       "      <td>0.1</td>\n",
       "      <td>0</td>\n",
       "    </tr>\n",
       "    <tr>\n",
       "      <th>4</th>\n",
       "      <td>5.7</td>\n",
       "      <td>3.8</td>\n",
       "      <td>1.7</td>\n",
       "      <td>0.3</td>\n",
       "      <td>0</td>\n",
       "    </tr>\n",
       "  </tbody>\n",
       "</table>\n",
       "</div>"
      ],
      "text/plain": [
       "   SepalLength  SepalWidth  PetalLength  PetalWidth  Species\n",
       "0          6.4         2.8          5.6         2.2        2\n",
       "1          5.0         2.3          3.3         1.0        1\n",
       "2          4.9         2.5          4.5         1.7        2\n",
       "3          4.9         3.1          1.5         0.1        0\n",
       "4          5.7         3.8          1.7         0.3        0"
      ]
     },
     "execution_count": 28,
     "metadata": {},
     "output_type": "execute_result"
    }
   ],
   "source": [
    "# Look at our data\n",
    "train.head()"
   ]
  },
  {
   "cell_type": "markdown",
   "metadata": {},
   "source": [
    "We can pop the species column off and use that as our label"
   ]
  },
  {
   "cell_type": "code",
   "execution_count": 29,
   "metadata": {},
   "outputs": [
    {
     "data": {
      "text/html": [
       "<div>\n",
       "<style scoped>\n",
       "    .dataframe tbody tr th:only-of-type {\n",
       "        vertical-align: middle;\n",
       "    }\n",
       "\n",
       "    .dataframe tbody tr th {\n",
       "        vertical-align: top;\n",
       "    }\n",
       "\n",
       "    .dataframe thead th {\n",
       "        text-align: right;\n",
       "    }\n",
       "</style>\n",
       "<table border=\"1\" class=\"dataframe\">\n",
       "  <thead>\n",
       "    <tr style=\"text-align: right;\">\n",
       "      <th></th>\n",
       "      <th>SepalLength</th>\n",
       "      <th>SepalWidth</th>\n",
       "      <th>PetalLength</th>\n",
       "      <th>PetalWidth</th>\n",
       "    </tr>\n",
       "  </thead>\n",
       "  <tbody>\n",
       "    <tr>\n",
       "      <th>0</th>\n",
       "      <td>6.4</td>\n",
       "      <td>2.8</td>\n",
       "      <td>5.6</td>\n",
       "      <td>2.2</td>\n",
       "    </tr>\n",
       "    <tr>\n",
       "      <th>1</th>\n",
       "      <td>5.0</td>\n",
       "      <td>2.3</td>\n",
       "      <td>3.3</td>\n",
       "      <td>1.0</td>\n",
       "    </tr>\n",
       "    <tr>\n",
       "      <th>2</th>\n",
       "      <td>4.9</td>\n",
       "      <td>2.5</td>\n",
       "      <td>4.5</td>\n",
       "      <td>1.7</td>\n",
       "    </tr>\n",
       "    <tr>\n",
       "      <th>3</th>\n",
       "      <td>4.9</td>\n",
       "      <td>3.1</td>\n",
       "      <td>1.5</td>\n",
       "      <td>0.1</td>\n",
       "    </tr>\n",
       "    <tr>\n",
       "      <th>4</th>\n",
       "      <td>5.7</td>\n",
       "      <td>3.8</td>\n",
       "      <td>1.7</td>\n",
       "      <td>0.3</td>\n",
       "    </tr>\n",
       "  </tbody>\n",
       "</table>\n",
       "</div>"
      ],
      "text/plain": [
       "   SepalLength  SepalWidth  PetalLength  PetalWidth\n",
       "0          6.4         2.8          5.6         2.2\n",
       "1          5.0         2.3          3.3         1.0\n",
       "2          4.9         2.5          4.5         1.7\n",
       "3          4.9         3.1          1.5         0.1\n",
       "4          5.7         3.8          1.7         0.3"
      ]
     },
     "execution_count": 29,
     "metadata": {},
     "output_type": "execute_result"
    }
   ],
   "source": [
    "train_y = train.pop('Species')\n",
    "test_y = test.pop('Species')\n",
    "train.head()"
   ]
  },
  {
   "cell_type": "code",
   "execution_count": 30,
   "metadata": {},
   "outputs": [
    {
     "data": {
      "text/plain": [
       "(120, 4)"
      ]
     },
     "execution_count": 30,
     "metadata": {},
     "output_type": "execute_result"
    }
   ],
   "source": [
    "train.shape # we have 120 entries with 4 features"
   ]
  },
  {
   "cell_type": "code",
   "execution_count": 31,
   "metadata": {},
   "outputs": [
    {
     "data": {
      "text/plain": [
       "0    2\n",
       "1    1\n",
       "2    2\n",
       "3    0\n",
       "4    0\n",
       "Name: Species, dtype: int64"
      ]
     },
     "execution_count": 31,
     "metadata": {},
     "output_type": "execute_result"
    }
   ],
   "source": [
    "train_y.head()"
   ]
  },
  {
   "cell_type": "markdown",
   "metadata": {},
   "source": [
    "#### We have input function for this dataset"
   ]
  },
  {
   "cell_type": "code",
   "execution_count": 32,
   "metadata": {},
   "outputs": [],
   "source": [
    "def input_fn(features, labels, training=True, batch_size=256):\n",
    "    #Convert the inputs to a Dataset\n",
    "    dataset = tf.data.Dataset.from_tensor_slices((dict(features), labels))\n",
    "    #Shuffle and repeat if we are in training mode\n",
    "    if training:\n",
    "        dataset = dataset.shuffle(1000).repeat()  \n",
    "\n",
    "    return dataset.batch(batch_size) \n"
   ]
  },
  {
   "cell_type": "markdown",
   "metadata": {},
   "source": [
    "##### Feature colums"
   ]
  },
  {
   "cell_type": "code",
   "execution_count": 33,
   "metadata": {},
   "outputs": [
    {
     "name": "stdout",
     "output_type": "stream",
     "text": [
      "[NumericColumn(key='SepalLength', shape=(1,), default_value=None, dtype=tf.float32, normalizer_fn=None), NumericColumn(key='SepalWidth', shape=(1,), default_value=None, dtype=tf.float32, normalizer_fn=None), NumericColumn(key='PetalLength', shape=(1,), default_value=None, dtype=tf.float32, normalizer_fn=None), NumericColumn(key='PetalWidth', shape=(1,), default_value=None, dtype=tf.float32, normalizer_fn=None)]\n"
     ]
    }
   ],
   "source": [
    "my_feature_columns = []\n",
    "# train.keys gives all the columns \n",
    "for key in train.keys():\n",
    "    my_feature_columns.append(tf.feature_column.numeric_column(key=key))\n",
    "\n",
    "print(my_feature_columns)"
   ]
  },
  {
   "cell_type": "markdown",
   "metadata": {},
   "source": [
    "## Building the model \n",
    "And now we are ready to choose a model. For classification tasks there are variety of different estimators/models that we can pick from. <br>\n",
    "Some options are listed below: \n",
    "- DNNClassifier (Deep Neural Network)\n",
    "- LinearClassifier\n",
    "\n",
    "We can choose either model but the DNN seems to be the best choice. This is because we may not be able to find a linear correspondence in out data. "
   ]
  },
  {
   "cell_type": "code",
   "execution_count": 34,
   "metadata": {},
   "outputs": [],
   "source": [
    "# Build a DNN with a hidden layers with 30 and 10 hidden nodes each.\n",
    "classifier = tf.estimator.DNNClassifier(\n",
    "    feature_columns = my_feature_columns,\n",
    "    # Two hidden layers of 30 and 10 nodes respectively\n",
    "    hidden_units=[30,10],\n",
    "    n_classes = 3\n",
    ")\n",
    "clear_output()"
   ]
  },
  {
   "cell_type": "markdown",
   "metadata": {},
   "source": [
    "#### Training"
   ]
  },
  {
   "cell_type": "code",
   "execution_count": 35,
   "metadata": {},
   "outputs": [
    {
     "name": "stdout",
     "output_type": "stream",
     "text": [
      "INFO:tensorflow:Calling model_fn.\n",
      "INFO:tensorflow:Done calling model_fn.\n",
      "INFO:tensorflow:Create CheckpointSaverHook.\n",
      "INFO:tensorflow:Graph was finalized.\n",
      "INFO:tensorflow:Running local_init_op.\n",
      "INFO:tensorflow:Done running local_init_op.\n",
      "INFO:tensorflow:Calling checkpoint listeners before saving checkpoint 0...\n",
      "INFO:tensorflow:Saving checkpoints for 0 into C:\\Users\\ADMIN\\AppData\\Local\\Temp\\tmpn4c2hwy4\\model.ckpt.\n",
      "INFO:tensorflow:Calling checkpoint listeners after saving checkpoint 0...\n",
      "INFO:tensorflow:loss = 1.087018, step = 0\n",
      "INFO:tensorflow:global_step/sec: 509.246\n",
      "INFO:tensorflow:loss = 0.90413284, step = 100 (0.196 sec)\n",
      "INFO:tensorflow:global_step/sec: 757.614\n",
      "INFO:tensorflow:loss = 0.8541671, step = 200 (0.132 sec)\n",
      "INFO:tensorflow:global_step/sec: 885.723\n",
      "INFO:tensorflow:loss = 0.81157666, step = 300 (0.113 sec)\n",
      "INFO:tensorflow:global_step/sec: 623.853\n",
      "INFO:tensorflow:loss = 0.78875697, step = 400 (0.160 sec)\n",
      "INFO:tensorflow:global_step/sec: 1036.49\n",
      "INFO:tensorflow:loss = 0.7534907, step = 500 (0.096 sec)\n",
      "INFO:tensorflow:global_step/sec: 633.376\n",
      "INFO:tensorflow:loss = 0.7296403, step = 600 (0.162 sec)\n",
      "INFO:tensorflow:global_step/sec: 831.186\n",
      "INFO:tensorflow:loss = 0.7118554, step = 700 (0.116 sec)\n",
      "INFO:tensorflow:global_step/sec: 675.648\n",
      "INFO:tensorflow:loss = 0.69608533, step = 800 (0.152 sec)\n",
      "INFO:tensorflow:global_step/sec: 1087.09\n",
      "INFO:tensorflow:loss = 0.67680585, step = 900 (0.088 sec)\n",
      "INFO:tensorflow:global_step/sec: 821.916\n",
      "INFO:tensorflow:loss = 0.67060673, step = 1000 (0.122 sec)\n",
      "INFO:tensorflow:global_step/sec: 1107.97\n",
      "INFO:tensorflow:loss = 0.6418575, step = 1100 (0.094 sec)\n",
      "INFO:tensorflow:global_step/sec: 576.033\n",
      "INFO:tensorflow:loss = 0.63758934, step = 1200 (0.170 sec)\n",
      "INFO:tensorflow:global_step/sec: 1056.47\n",
      "INFO:tensorflow:loss = 0.62855774, step = 1300 (0.095 sec)\n",
      "INFO:tensorflow:global_step/sec: 714.301\n",
      "INFO:tensorflow:loss = 0.61770743, step = 1400 (0.144 sec)\n",
      "INFO:tensorflow:global_step/sec: 986.076\n",
      "INFO:tensorflow:loss = 0.6035452, step = 1500 (0.101 sec)\n",
      "INFO:tensorflow:global_step/sec: 595.952\n",
      "INFO:tensorflow:loss = 0.59815973, step = 1600 (0.168 sec)\n",
      "INFO:tensorflow:global_step/sec: 869.216\n",
      "INFO:tensorflow:loss = 0.5818629, step = 1700 (0.115 sec)\n",
      "INFO:tensorflow:global_step/sec: 595.154\n",
      "INFO:tensorflow:loss = 0.5811564, step = 1800 (0.168 sec)\n",
      "INFO:tensorflow:global_step/sec: 951.827\n",
      "INFO:tensorflow:loss = 0.5579328, step = 1900 (0.105 sec)\n",
      "INFO:tensorflow:global_step/sec: 675.681\n",
      "INFO:tensorflow:loss = 0.5582129, step = 2000 (0.144 sec)\n",
      "INFO:tensorflow:global_step/sec: 999.963\n",
      "INFO:tensorflow:loss = 0.55344427, step = 2100 (0.104 sec)\n",
      "INFO:tensorflow:global_step/sec: 714.302\n",
      "INFO:tensorflow:loss = 0.5487888, step = 2200 (0.136 sec)\n",
      "INFO:tensorflow:global_step/sec: 992.866\n",
      "INFO:tensorflow:loss = 0.54909754, step = 2300 (0.105 sec)\n",
      "INFO:tensorflow:global_step/sec: 750.556\n",
      "INFO:tensorflow:loss = 0.54280365, step = 2400 (0.129 sec)\n",
      "INFO:tensorflow:global_step/sec: 1107.98\n",
      "INFO:tensorflow:loss = 0.52900636, step = 2500 (0.090 sec)\n",
      "INFO:tensorflow:global_step/sec: 676.48\n",
      "INFO:tensorflow:loss = 0.52842474, step = 2600 (0.148 sec)\n",
      "INFO:tensorflow:global_step/sec: 969.97\n",
      "INFO:tensorflow:loss = 0.53047985, step = 2700 (0.103 sec)\n",
      "INFO:tensorflow:global_step/sec: 680.696\n",
      "INFO:tensorflow:loss = 0.515751, step = 2800 (0.147 sec)\n",
      "INFO:tensorflow:global_step/sec: 1056.35\n",
      "INFO:tensorflow:loss = 0.5192708, step = 2900 (0.095 sec)\n",
      "INFO:tensorflow:global_step/sec: 726.703\n",
      "INFO:tensorflow:loss = 0.5070536, step = 3000 (0.142 sec)\n",
      "INFO:tensorflow:global_step/sec: 1104.71\n",
      "INFO:tensorflow:loss = 0.50871503, step = 3100 (0.091 sec)\n",
      "INFO:tensorflow:global_step/sec: 998.592\n",
      "INFO:tensorflow:loss = 0.50088096, step = 3200 (0.100 sec)\n",
      "INFO:tensorflow:global_step/sec: 416.224\n",
      "INFO:tensorflow:loss = 0.49316746, step = 3300 (0.240 sec)\n",
      "INFO:tensorflow:global_step/sec: 567.637\n",
      "INFO:tensorflow:loss = 0.4917615, step = 3400 (0.176 sec)\n",
      "INFO:tensorflow:global_step/sec: 519.307\n",
      "INFO:tensorflow:loss = 0.47788206, step = 3500 (0.189 sec)\n",
      "INFO:tensorflow:global_step/sec: 999.222\n",
      "INFO:tensorflow:loss = 0.48029342, step = 3600 (0.104 sec)\n",
      "INFO:tensorflow:global_step/sec: 454.372\n",
      "INFO:tensorflow:loss = 0.4789078, step = 3700 (0.216 sec)\n",
      "INFO:tensorflow:global_step/sec: 567.333\n",
      "INFO:tensorflow:loss = 0.47267228, step = 3800 (0.180 sec)\n",
      "INFO:tensorflow:global_step/sec: 858.465\n",
      "INFO:tensorflow:loss = 0.46790138, step = 3900 (0.116 sec)\n",
      "INFO:tensorflow:global_step/sec: 570.846\n",
      "INFO:tensorflow:loss = 0.4670251, step = 4000 (0.171 sec)\n",
      "INFO:tensorflow:global_step/sec: 1000.04\n",
      "INFO:tensorflow:loss = 0.4743587, step = 4100 (0.100 sec)\n",
      "INFO:tensorflow:global_step/sec: 495.713\n",
      "INFO:tensorflow:loss = 0.4685383, step = 4200 (0.202 sec)\n",
      "INFO:tensorflow:global_step/sec: 616.877\n",
      "INFO:tensorflow:loss = 0.4588548, step = 4300 (0.162 sec)\n",
      "INFO:tensorflow:global_step/sec: 877.633\n",
      "INFO:tensorflow:loss = 0.46210045, step = 4400 (0.118 sec)\n",
      "INFO:tensorflow:global_step/sec: 475.524\n",
      "INFO:tensorflow:loss = 0.45103517, step = 4500 (0.206 sec)\n",
      "INFO:tensorflow:global_step/sec: 594.153\n",
      "INFO:tensorflow:loss = 0.4419624, step = 4600 (0.168 sec)\n",
      "INFO:tensorflow:global_step/sec: 962.52\n",
      "INFO:tensorflow:loss = 0.46620947, step = 4700 (0.108 sec)\n",
      "INFO:tensorflow:global_step/sec: 657.759\n",
      "INFO:tensorflow:loss = 0.43609202, step = 4800 (0.148 sec)\n",
      "INFO:tensorflow:global_step/sec: 926.938\n",
      "INFO:tensorflow:loss = 0.4288889, step = 4900 (0.112 sec)\n",
      "INFO:tensorflow:Calling checkpoint listeners before saving checkpoint 5000...\n",
      "INFO:tensorflow:Saving checkpoints for 5000 into C:\\Users\\ADMIN\\AppData\\Local\\Temp\\tmpn4c2hwy4\\model.ckpt.\n",
      "INFO:tensorflow:Calling checkpoint listeners after saving checkpoint 5000...\n",
      "INFO:tensorflow:Loss for final step: 0.44764727.\n"
     ]
    },
    {
     "data": {
      "text/plain": [
       "<tensorflow_estimator.python.estimator.canned.dnn.DNNClassifierV2 at 0x2159af1a290>"
      ]
     },
     "execution_count": 35,
     "metadata": {},
     "output_type": "execute_result"
    }
   ],
   "source": [
    "classifier.train(\n",
    "    input_fn=lambda: input_fn(train, train_y, training=True),\n",
    "    steps = 5000 \n",
    ")"
   ]
  },
  {
   "cell_type": "markdown",
   "metadata": {},
   "source": [
    "#### Evaluation"
   ]
  },
  {
   "cell_type": "code",
   "execution_count": 36,
   "metadata": {},
   "outputs": [
    {
     "name": "stdout",
     "output_type": "stream",
     "text": [
      "INFO:tensorflow:Calling model_fn.\n",
      "INFO:tensorflow:Done calling model_fn.\n",
      "INFO:tensorflow:Starting evaluation at 2022-10-25T06:22:58\n",
      "INFO:tensorflow:Graph was finalized.\n",
      "INFO:tensorflow:Restoring parameters from C:\\Users\\ADMIN\\AppData\\Local\\Temp\\tmpn4c2hwy4\\model.ckpt-5000\n",
      "INFO:tensorflow:Running local_init_op.\n",
      "INFO:tensorflow:Done running local_init_op.\n",
      "INFO:tensorflow:Inference Time : 0.40436s\n",
      "INFO:tensorflow:Finished evaluation at 2022-10-25-06:22:58\n",
      "INFO:tensorflow:Saving dict for global step 5000: accuracy = 0.7, average_loss = 0.5200188, global_step = 5000, loss = 0.5200188\n",
      "INFO:tensorflow:Saving 'checkpoint_path' summary for global step 5000: C:\\Users\\ADMIN\\AppData\\Local\\Temp\\tmpn4c2hwy4\\model.ckpt-5000\n",
      "INFO:tensorflow:Calling model_fn.\n",
      "INFO:tensorflow:Done calling model_fn.\n",
      "INFO:tensorflow:Starting evaluation at 2022-10-25T06:22:59\n",
      "INFO:tensorflow:Graph was finalized.\n",
      "INFO:tensorflow:Restoring parameters from C:\\Users\\ADMIN\\AppData\\Local\\Temp\\tmpn4c2hwy4\\model.ckpt-5000\n",
      "INFO:tensorflow:Running local_init_op.\n",
      "INFO:tensorflow:Done running local_init_op.\n",
      "INFO:tensorflow:Inference Time : 0.35222s\n",
      "INFO:tensorflow:Finished evaluation at 2022-10-25-06:22:59\n",
      "INFO:tensorflow:Saving dict for global step 5000: accuracy = 0.7, average_loss = 0.5200188, global_step = 5000, loss = 0.5200188\n",
      "INFO:tensorflow:Saving 'checkpoint_path' summary for global step 5000: C:\\Users\\ADMIN\\AppData\\Local\\Temp\\tmpn4c2hwy4\\model.ckpt-5000\n",
      "\n",
      " Test set accuracy: 0.700\n",
      "\n"
     ]
    }
   ],
   "source": [
    "classifier.evaluate(\n",
    "    input_fn=lambda: input_fn(test, test_y, training=False)\n",
    ")\n",
    "eval_result= classifier.evaluate(\n",
    "    input_fn=lambda: input_fn(test, test_y, training=False)\n",
    ")\n",
    "print(\"\\n Test set accuracy: {accuracy:0.3f}\\n\".format(**eval_result))"
   ]
  },
  {
   "cell_type": "code",
   "execution_count": null,
   "metadata": {},
   "outputs": [],
   "source": []
  },
  {
   "cell_type": "markdown",
   "metadata": {},
   "source": [
    "#### Predictions"
   ]
  },
  {
   "cell_type": "code",
   "execution_count": 37,
   "metadata": {},
   "outputs": [
    {
     "name": "stdout",
     "output_type": "stream",
     "text": [
      "Please type numeric values as prompted.\n",
      "INFO:tensorflow:Calling model_fn.\n",
      "INFO:tensorflow:Done calling model_fn.\n",
      "INFO:tensorflow:Graph was finalized.\n",
      "INFO:tensorflow:Restoring parameters from C:\\Users\\ADMIN\\AppData\\Local\\Temp\\tmpn4c2hwy4\\model.ckpt-5000\n",
      "INFO:tensorflow:Running local_init_op.\n",
      "INFO:tensorflow:Done running local_init_op.\n",
      "Prediction is \"Setosa\" (91.5%)\n"
     ]
    }
   ],
   "source": [
    "def input_fn(features, batch_size=256):\n",
    "    #Convert the inputs to a Dataset withour labels. \n",
    "    return tf.data.Dataset.from_tensor_slices(dict(features)).batch(batch_size)\n",
    "\n",
    "predict = {}\n",
    "features = ['SepalLength', 'SepalWidth', 'PetalLength', 'PetalWidth']\n",
    "\n",
    "print(\"Please type numeric values as prompted.\")\n",
    "for feature in features:\n",
    "    valid = True\n",
    "    while valid:\n",
    "        val = input(feature + \": \")  \n",
    "        if not val.isdigit(): valid = False\n",
    "    \n",
    "    predict[feature] = [float(val)]\n",
    "\n",
    "predictions = classifier.predict(input_fn=lambda: input_fn(predict))\n",
    "\n",
    "for pred_dict in predictions:\n",
    "    class_id = pred_dict['class_ids'][0]\n",
    "    probability = pred_dict['probabilities'][class_id] \n",
    "\n",
    "    print('Prediction is \"{}\" ({:.1f}%)'.format(\n",
    "        SPECIES[class_id], 100 * probability))\n",
    "    \n",
    "\n"
   ]
  }
 ],
 "metadata": {
  "kernelspec": {
   "display_name": "Python 3.10.4 64-bit",
   "language": "python",
   "name": "python3"
  },
  "language_info": {
   "codemirror_mode": {
    "name": "ipython",
    "version": 3
   },
   "file_extension": ".py",
   "mimetype": "text/x-python",
   "name": "python",
   "nbconvert_exporter": "python",
   "pygments_lexer": "ipython3",
   "version": "3.10.4"
  },
  "orig_nbformat": 4,
  "vscode": {
   "interpreter": {
    "hash": "31671a60cee805c34c73116577b485118ff3a75c458d3004d49632c19702ac60"
   }
  }
 },
 "nbformat": 4,
 "nbformat_minor": 2
}
